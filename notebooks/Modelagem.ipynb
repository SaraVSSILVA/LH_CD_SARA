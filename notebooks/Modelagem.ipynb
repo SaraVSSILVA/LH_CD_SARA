{
 "cells": [
  {
   "cell_type": "code",
   "execution_count": 1,
   "id": "e96a08b6",
   "metadata": {},
   "outputs": [],
   "source": [
    "import pandas as pd\n",
    "import numpy as np\n",
    "from sklearn.model_selection import train_test_split\n",
    "from sklearn.compose import ColumnTransformer\n",
    "from sklearn.pipeline import Pipeline\n",
    "from sklearn.preprocessing import OneHotEncoder, StandardScaler\n",
    "from sklearn.feature_extraction.text import TfidfVectorizer\n",
    "from sklearn.linear_model import Ridge\n",
    "from sklearn.ensemble import RandomForestRegressor\n",
    "from sklearn.metrics import mean_absolute_error, mean_squared_error\n",
    "import joblib\n"
   ]
  },
  {
   "cell_type": "code",
   "execution_count": 11,
   "id": "3a6eb25e",
   "metadata": {},
   "outputs": [],
   "source": [
    "df = pd.read_csv(r\"C:/Users/sarav/OneDrive/Área de Trabalho/Trabalhos/LightHouse/LH_CD_SARA/data/desafio_indicium_imdb.csv\")\n",
    "df = df.dropna(subset=['IMDB_Rating'])\n",
    "if 'Gross' in df.columns:\n",
    "    df['Gross'] = df['Gross'].replace({',': ''}, regex=True)\n",
    "    df['Gross'] = pd.to_numeric(df['Gross'], errors='coerce')\n",
    "if 'Runtime' in df.columns:\n",
    "    df['Runtime'] = df['Runtime'].str.replace('min', '', regex=False).str.strip()\n",
    "    df['Runtime'] = pd.to_numeric(df['Runtime'], errors='coerce')"
   ]
  },
  {
   "cell_type": "code",
   "execution_count": null,
   "id": "4d8a4542",
   "metadata": {},
   "outputs": [],
   "source": [
    "for col in num_features:\n",
    "    df[col] = pd.to_numeric(df[col], errors='coerce')\n",
    "df = df.dropna(subset=num_features)"
   ]
  },
  {
   "cell_type": "code",
   "execution_count": 12,
   "id": "0cf22462",
   "metadata": {},
   "outputs": [],
   "source": [
    "num_features = ['Released_Year', 'Runtime', 'Meta_score', 'Gross', 'No_of_Votes']\n",
    "\n",
    "cat_features = ['Certificate', 'Genre']\n",
    "\n",
    "text_feature = 'Cleaned_Overview'  \n",
    "\n",
    "target = 'IMDB_Rating'\n"
   ]
  },
  {
   "cell_type": "code",
   "execution_count": 13,
   "id": "22bda0bc",
   "metadata": {},
   "outputs": [],
   "source": [
    "numeric_transformer = Pipeline(steps=[\n",
    "    ('scaler', StandardScaler())\n",
    "])\n",
    "\n",
    "categorical_transformer = Pipeline(steps=[\n",
    "    ('onehot', OneHotEncoder(handle_unknown='ignore'))\n",
    "])\n",
    "\n",
    "text_transformer = Pipeline(steps=[\n",
    "    ('tfidf', TfidfVectorizer(max_features=100))\n",
    "])\n",
    "\n",
    "preprocessor = ColumnTransformer(\n",
    "    transformers=[\n",
    "        ('num', numeric_transformer, num_features),\n",
    "        ('cat', categorical_transformer, cat_features),\n",
    "        ('text', text_transformer, text_feature)\n",
    "    ]\n",
    ")\n"
   ]
  },
  {
   "cell_type": "code",
   "execution_count": 17,
   "id": "3f816232",
   "metadata": {},
   "outputs": [
    {
     "name": "stdout",
     "output_type": "stream",
     "text": [
      "Ridge Regression:\n",
      "MAE: 0.15565622196605483\n",
      "RMSE: 0.20034000244382338\n"
     ]
    },
    {
     "name": "stderr",
     "output_type": "stream",
     "text": [
      "<>:2: SyntaxWarning: invalid escape sequence '\\w'\n",
      "<>:2: SyntaxWarning: invalid escape sequence '\\w'\n",
      "C:\\Users\\sarav\\AppData\\Local\\Temp\\ipykernel_24460\\3315822624.py:2: SyntaxWarning: invalid escape sequence '\\w'\n",
      "  df['Cleaned_Overview'] = df['Overview'].str.lower().str.replace('[^\\w\\s]', '', regex=True)\n"
     ]
    }
   ],
   "source": [
    "if 'Cleaned_Overview' not in df.columns:\n",
    "    df['Cleaned_Overview'] = df['Overview'].str.lower().str.replace('[^\\w\\s]', '', regex=True)\n",
    "\n",
    "X = df[num_features + cat_features + [text_feature]]\n",
    "y = df[target]\n",
    "X_train, X_test, y_train, y_test = train_test_split(X, y, test_size=0.2, random_state=42)\n",
    "\n",
    "ridge_pipeline = Pipeline(steps=[\n",
    "    ('preprocessor', preprocessor),\n",
    "    ('regressor', Ridge())\n",
    "])\n",
    "\n",
    "ridge_pipeline.fit(X_train, y_train)\n",
    "y_pred_ridge = ridge_pipeline.predict(X_test)\n",
    "\n",
    "print(\"Ridge Regression:\")\n",
    "print(\"MAE:\", mean_absolute_error(y_test, y_pred_ridge))\n",
    "print(\"RMSE:\", np.sqrt(mean_squared_error(y_test, y_pred_ridge)))\n"
   ]
  },
  {
   "cell_type": "code",
   "execution_count": 20,
   "id": "dbf036d9",
   "metadata": {},
   "outputs": [
    {
     "data": {
      "text/plain": [
       "['C:/Users/sarav/OneDrive/Área de Trabalho/Trabalhos/LightHouse/LH_CD_SARA/models/imdb_model.pkl']"
      ]
     },
     "execution_count": 20,
     "metadata": {},
     "output_type": "execute_result"
    }
   ],
   "source": [
    "joblib.dump(ridge_pipeline, r'C:/Users/sarav/OneDrive/Área de Trabalho/Trabalhos/LightHouse/LH_CD_SARA/models/imdb_model.pkl')"
   ]
  },
  {
   "cell_type": "code",
   "execution_count": 21,
   "id": "4fe2f656",
   "metadata": {},
   "outputs": [],
   "source": [
    "X = df[num_features + cat_features + [text_feature]]\n",
    "y = df[target]\n",
    "X_train, X_test, y_train, y_test = train_test_split(X, y, test_size=0.2, random_state=42)\n"
   ]
  },
  {
   "cell_type": "code",
   "execution_count": 23,
   "id": "61a7ee89",
   "metadata": {},
   "outputs": [],
   "source": [
    "from sklearn.linear_model import Ridge\n",
    "\n",
    "ridge_pipeline = Pipeline(steps=[\n",
    "    ('preprocessor', preprocessor),\n",
    "    ('regressor', Ridge())\n",
    "])\n",
    "\n",
    "ridge_pipeline.fit(X_train, y_train)\n",
    "y_pred_ridge = ridge_pipeline.predict(X_test)\n",
    "\n",
    "mae_ridge = mean_absolute_error(y_test, y_pred_ridge)\n",
    "rmse_ridge = np.sqrt(mean_squared_error(y_test, y_pred_ridge))\n"
   ]
  },
  {
   "cell_type": "code",
   "execution_count": 25,
   "id": "675f7e92",
   "metadata": {},
   "outputs": [],
   "source": [
    "from sklearn.ensemble import RandomForestRegressor\n",
    "\n",
    "rf_pipeline = Pipeline(steps=[\n",
    "    ('preprocessor', preprocessor),\n",
    "    ('regressor', RandomForestRegressor(n_estimators=100, random_state=42))\n",
    "])\n",
    "\n",
    "rf_pipeline.fit(X_train, y_train)\n",
    "y_pred_rf = rf_pipeline.predict(X_test)\n",
    "\n",
    "mae_rf = mean_absolute_error(y_test, y_pred_rf)\n",
    "rmse_rf = np.sqrt(mean_squared_error(y_test, y_pred_rf))\n"
   ]
  },
  {
   "cell_type": "code",
   "execution_count": 28,
   "id": "31993f7b",
   "metadata": {},
   "outputs": [
    {
     "name": "stdout",
     "output_type": "stream",
     "text": [
      "Requirement already satisfied: xgboost in c:\\users\\sarav\\onedrive\\área de trabalho\\trabalhos\\lighthouse\\lh_cd_sara\\venv\\lib\\site-packages (3.0.5)\n",
      "Requirement already satisfied: numpy in c:\\users\\sarav\\onedrive\\área de trabalho\\trabalhos\\lighthouse\\lh_cd_sara\\venv\\lib\\site-packages (from xgboost) (2.3.2)\n",
      "Requirement already satisfied: scipy in c:\\users\\sarav\\onedrive\\área de trabalho\\trabalhos\\lighthouse\\lh_cd_sara\\venv\\lib\\site-packages (from xgboost) (1.16.1)\n",
      "Note: you may need to restart the kernel to use updated packages.\n"
     ]
    }
   ],
   "source": [
    "%pip install xgboost\n",
    "from xgboost import XGBRegressor\n",
    "\n",
    "xgb_pipeline = Pipeline(steps=[\n",
    "    ('preprocessor', preprocessor),\n",
    "    ('regressor', XGBRegressor(n_estimators=100, random_state=42))\n",
    "])\n",
    "\n",
    "xgb_pipeline.fit(X_train, y_train)\n",
    "y_pred_xgb = xgb_pipeline.predict(X_test)\n",
    "\n",
    "mae_xgb = mean_absolute_error(y_test, y_pred_xgb)\n",
    "rmse_xgb = np.sqrt(mean_squared_error(y_test, y_pred_xgb))\n"
   ]
  },
  {
   "cell_type": "code",
   "execution_count": 29,
   "id": "89a743b6",
   "metadata": {},
   "outputs": [
    {
     "data": {
      "text/html": [
       "<div>\n",
       "<style scoped>\n",
       "    .dataframe tbody tr th:only-of-type {\n",
       "        vertical-align: middle;\n",
       "    }\n",
       "\n",
       "    .dataframe tbody tr th {\n",
       "        vertical-align: top;\n",
       "    }\n",
       "\n",
       "    .dataframe thead th {\n",
       "        text-align: right;\n",
       "    }\n",
       "</style>\n",
       "<table border=\"1\" class=\"dataframe\">\n",
       "  <thead>\n",
       "    <tr style=\"text-align: right;\">\n",
       "      <th></th>\n",
       "      <th>Modelo</th>\n",
       "      <th>MAE</th>\n",
       "      <th>RMSE</th>\n",
       "    </tr>\n",
       "  </thead>\n",
       "  <tbody>\n",
       "    <tr>\n",
       "      <th>2</th>\n",
       "      <td>XGBoost</td>\n",
       "      <td>0.155436</td>\n",
       "      <td>0.193026</td>\n",
       "    </tr>\n",
       "    <tr>\n",
       "      <th>1</th>\n",
       "      <td>Random Forest</td>\n",
       "      <td>0.158733</td>\n",
       "      <td>0.198995</td>\n",
       "    </tr>\n",
       "    <tr>\n",
       "      <th>0</th>\n",
       "      <td>Ridge</td>\n",
       "      <td>0.155656</td>\n",
       "      <td>0.200340</td>\n",
       "    </tr>\n",
       "  </tbody>\n",
       "</table>\n",
       "</div>"
      ],
      "text/plain": [
       "          Modelo       MAE      RMSE\n",
       "2        XGBoost  0.155436  0.193026\n",
       "1  Random Forest  0.158733  0.198995\n",
       "0          Ridge  0.155656  0.200340"
      ]
     },
     "execution_count": 29,
     "metadata": {},
     "output_type": "execute_result"
    }
   ],
   "source": [
    "results = pd.DataFrame({\n",
    "    'Modelo': ['Ridge', 'Random Forest', 'XGBoost'],\n",
    "    'MAE': [mae_ridge, mae_rf, mae_xgb],\n",
    "    'RMSE': [rmse_ridge, rmse_rf, rmse_xgb]\n",
    "})\n",
    "\n",
    "results.sort_values(by='RMSE')\n"
   ]
  },
  {
   "cell_type": "markdown",
   "id": "72a009ae",
   "metadata": {},
   "source": [
    "### 📊 1. Tabela Comparativa de Modelos"
   ]
  },
  {
   "cell_type": "code",
   "execution_count": 30,
   "id": "3cd5a2cc",
   "metadata": {},
   "outputs": [
    {
     "data": {
      "text/html": [
       "<div>\n",
       "<style scoped>\n",
       "    .dataframe tbody tr th:only-of-type {\n",
       "        vertical-align: middle;\n",
       "    }\n",
       "\n",
       "    .dataframe tbody tr th {\n",
       "        vertical-align: top;\n",
       "    }\n",
       "\n",
       "    .dataframe thead th {\n",
       "        text-align: right;\n",
       "    }\n",
       "</style>\n",
       "<table border=\"1\" class=\"dataframe\">\n",
       "  <thead>\n",
       "    <tr style=\"text-align: right;\">\n",
       "      <th></th>\n",
       "      <th>Modelo</th>\n",
       "      <th>MAE</th>\n",
       "      <th>RMSE</th>\n",
       "      <th>Complexidade</th>\n",
       "      <th>Tempo de Treino</th>\n",
       "      <th>Interpretabilidade</th>\n",
       "    </tr>\n",
       "  </thead>\n",
       "  <tbody>\n",
       "    <tr>\n",
       "      <th>2</th>\n",
       "      <td>XGBoost</td>\n",
       "      <td>0.155436</td>\n",
       "      <td>0.193026</td>\n",
       "      <td>Alta</td>\n",
       "      <td>Mais lento</td>\n",
       "      <td>Baixa</td>\n",
       "    </tr>\n",
       "    <tr>\n",
       "      <th>1</th>\n",
       "      <td>Random Forest</td>\n",
       "      <td>0.158733</td>\n",
       "      <td>0.198995</td>\n",
       "      <td>Média</td>\n",
       "      <td>Moderado</td>\n",
       "      <td>Média</td>\n",
       "    </tr>\n",
       "    <tr>\n",
       "      <th>0</th>\n",
       "      <td>Ridge Regression</td>\n",
       "      <td>0.155656</td>\n",
       "      <td>0.200340</td>\n",
       "      <td>Baixa</td>\n",
       "      <td>Rápido</td>\n",
       "      <td>Alta</td>\n",
       "    </tr>\n",
       "  </tbody>\n",
       "</table>\n",
       "</div>"
      ],
      "text/plain": [
       "             Modelo       MAE      RMSE Complexidade Tempo de Treino  \\\n",
       "2           XGBoost  0.155436  0.193026         Alta      Mais lento   \n",
       "1     Random Forest  0.158733  0.198995        Média        Moderado   \n",
       "0  Ridge Regression  0.155656  0.200340        Baixa          Rápido   \n",
       "\n",
       "  Interpretabilidade  \n",
       "2              Baixa  \n",
       "1              Média  \n",
       "0               Alta  "
      ]
     },
     "execution_count": 30,
     "metadata": {},
     "output_type": "execute_result"
    }
   ],
   "source": [
    "results = pd.DataFrame({\n",
    "    'Modelo': ['Ridge Regression', 'Random Forest', 'XGBoost'],\n",
    "    'MAE': [mae_ridge, mae_rf, mae_xgb],\n",
    "    'RMSE': [rmse_ridge, rmse_rf, rmse_xgb],\n",
    "    'Complexidade': ['Baixa', 'Média', 'Alta'],\n",
    "    'Tempo de Treino': ['Rápido', 'Moderado', 'Mais lento'],\n",
    "    'Interpretabilidade': ['Alta', 'Média', 'Baixa']\n",
    "})\n",
    "\n",
    "results.sort_values(by='RMSE')\n"
   ]
  },
  {
   "cell_type": "markdown",
   "id": "bbf3437c",
   "metadata": {},
   "source": [
    "### 🔁 Validação Cruzada (Random Forest)"
   ]
  },
  {
   "cell_type": "code",
   "execution_count": 31,
   "id": "4d52d2ab",
   "metadata": {},
   "outputs": [
    {
     "name": "stdout",
     "output_type": "stream",
     "text": [
      "RMSE por fold (Random Forest): [0.49590246 0.2221557  0.11880227 0.15007233 0.2665208 ]\n",
      "RMSE médio (Random Forest): 0.2506907123145759\n"
     ]
    }
   ],
   "source": [
    "from sklearn.model_selection import cross_val_score\n",
    "\n",
    "cv_scores_rf = cross_val_score(rf_pipeline, X, y, cv=5, scoring='neg_root_mean_squared_error')\n",
    "cv_rmse_rf = -cv_scores_rf\n",
    "\n",
    "print(\"RMSE por fold (Random Forest):\", cv_rmse_rf)\n",
    "print(\"RMSE médio (Random Forest):\", cv_rmse_rf.mean())\n"
   ]
  },
  {
   "cell_type": "markdown",
   "id": "194ace61",
   "metadata": {},
   "source": [
    "### 🔁 Validação Cruzada (Ridge Regression)"
   ]
  },
  {
   "cell_type": "code",
   "execution_count": 32,
   "id": "192f7964",
   "metadata": {},
   "outputs": [
    {
     "name": "stdout",
     "output_type": "stream",
     "text": [
      "RMSE por fold (Ridge): [0.40317847 0.21409931 0.13661209 0.18321123 0.28533928]\n",
      "RMSE médio (Ridge): 0.24448807773425996\n"
     ]
    }
   ],
   "source": [
    "from sklearn.model_selection import cross_val_score\n",
    "\n",
    "cv_scores_ridge = cross_val_score(ridge_pipeline, X, y, cv=5, scoring='neg_root_mean_squared_error')\n",
    "cv_rmse_ridge = -cv_scores_ridge\n",
    "\n",
    "print(\"RMSE por fold (Ridge):\", cv_rmse_ridge)\n",
    "print(\"RMSE médio (Ridge):\", cv_rmse_ridge.mean())\n"
   ]
  },
  {
   "cell_type": "markdown",
   "id": "b171589f",
   "metadata": {},
   "source": [
    "### 🔁 Validação Cruzada (XGBoost)"
   ]
  },
  {
   "cell_type": "code",
   "execution_count": 34,
   "id": "4516366e",
   "metadata": {},
   "outputs": [
    {
     "name": "stdout",
     "output_type": "stream",
     "text": [
      "RMSE por fold (XGBoost): [0.5009354  0.24222408 0.15260348 0.16074399 0.25644987]\n",
      "RMSE médio (XGBoost): 0.26259136636858454\n"
     ]
    }
   ],
   "source": [
    "from sklearn.model_selection import cross_val_score\n",
    "\n",
    "cv_scores_xgb = cross_val_score(xgb_pipeline, X, y, cv=5, scoring='neg_root_mean_squared_error')\n",
    "cv_rmse_xgb = -cv_scores_xgb\n",
    "print(\"RMSE por fold (XGBoost):\", cv_rmse_xgb)\n",
    "print(\"RMSE médio (XGBoost):\", cv_rmse_xgb.mean())"
   ]
  },
  {
   "cell_type": "markdown",
   "id": "2e4dd22f",
   "metadata": {},
   "source": [
    "### ✅ 1. Tabela Comparativa com Critérios Técnicos e Práticos"
   ]
  },
  {
   "cell_type": "code",
   "execution_count": 35,
   "id": "9f8f3e24",
   "metadata": {},
   "outputs": [
    {
     "data": {
      "text/html": [
       "<div>\n",
       "<style scoped>\n",
       "    .dataframe tbody tr th:only-of-type {\n",
       "        vertical-align: middle;\n",
       "    }\n",
       "\n",
       "    .dataframe tbody tr th {\n",
       "        vertical-align: top;\n",
       "    }\n",
       "\n",
       "    .dataframe thead th {\n",
       "        text-align: right;\n",
       "    }\n",
       "</style>\n",
       "<table border=\"1\" class=\"dataframe\">\n",
       "  <thead>\n",
       "    <tr style=\"text-align: right;\">\n",
       "      <th></th>\n",
       "      <th>Modelo</th>\n",
       "      <th>MAE</th>\n",
       "      <th>RMSE</th>\n",
       "      <th>RMSE_CV</th>\n",
       "      <th>Complexidade</th>\n",
       "      <th>Tempo de Treino</th>\n",
       "      <th>Interpretabilidade</th>\n",
       "    </tr>\n",
       "  </thead>\n",
       "  <tbody>\n",
       "    <tr>\n",
       "      <th>0</th>\n",
       "      <td>Ridge Regression</td>\n",
       "      <td>0.155656</td>\n",
       "      <td>0.200340</td>\n",
       "      <td>0.244488</td>\n",
       "      <td>Baixa</td>\n",
       "      <td>Rápido</td>\n",
       "      <td>Alta</td>\n",
       "    </tr>\n",
       "    <tr>\n",
       "      <th>1</th>\n",
       "      <td>Random Forest</td>\n",
       "      <td>0.158733</td>\n",
       "      <td>0.198995</td>\n",
       "      <td>0.250691</td>\n",
       "      <td>Média</td>\n",
       "      <td>Moderado</td>\n",
       "      <td>Média</td>\n",
       "    </tr>\n",
       "    <tr>\n",
       "      <th>2</th>\n",
       "      <td>XGBoost</td>\n",
       "      <td>0.155436</td>\n",
       "      <td>0.193026</td>\n",
       "      <td>0.262591</td>\n",
       "      <td>Alta</td>\n",
       "      <td>Mais lento</td>\n",
       "      <td>Baixa</td>\n",
       "    </tr>\n",
       "  </tbody>\n",
       "</table>\n",
       "</div>"
      ],
      "text/plain": [
       "             Modelo       MAE      RMSE   RMSE_CV Complexidade  \\\n",
       "0  Ridge Regression  0.155656  0.200340  0.244488        Baixa   \n",
       "1     Random Forest  0.158733  0.198995  0.250691        Média   \n",
       "2           XGBoost  0.155436  0.193026  0.262591         Alta   \n",
       "\n",
       "  Tempo de Treino Interpretabilidade  \n",
       "0          Rápido               Alta  \n",
       "1        Moderado              Média  \n",
       "2      Mais lento              Baixa  "
      ]
     },
     "execution_count": 35,
     "metadata": {},
     "output_type": "execute_result"
    }
   ],
   "source": [
    "results = pd.DataFrame({\n",
    "    'Modelo': ['Ridge Regression', 'Random Forest', 'XGBoost'],\n",
    "    'MAE': [mae_ridge, mae_rf, mae_xgb],\n",
    "    'RMSE': [rmse_ridge, rmse_rf, rmse_xgb],\n",
    "    'RMSE_CV': [cv_rmse_ridge.mean(), cv_rmse_rf.mean(), cv_rmse_xgb.mean()],\n",
    "    'Complexidade': ['Baixa', 'Média', 'Alta'],\n",
    "    'Tempo de Treino': ['Rápido', 'Moderado', 'Mais lento'],\n",
    "    'Interpretabilidade': ['Alta', 'Média', 'Baixa']\n",
    "})\n",
    "\n",
    "results.sort_values(by='RMSE_CV')\n"
   ]
  },
  {
   "cell_type": "markdown",
   "id": "910e3424",
   "metadata": {},
   "source": [
    "### 📊 2. Visualizações (Gráficos de Erro e Consistência)"
   ]
  },
  {
   "cell_type": "markdown",
   "id": "1b4b7e5f",
   "metadata": {},
   "source": [
    "Gráfico de RMSE por Modelo"
   ]
  },
  {
   "cell_type": "code",
   "execution_count": 37,
   "id": "3269ddca",
   "metadata": {},
   "outputs": [
    {
     "data": {
      "image/png": "[encoded data removed]",
      "text/plain": [
       "<Figure size 800x500 with 1 Axes>"
      ]
     },
     "metadata": {},
     "output_type": "display_data"
    }
   ],
   "source": [
    "import matplotlib.pyplot as plt\n",
    "plt.figure(figsize=(8, 5))\n",
    "plt.bar(results['Modelo'], results['RMSE'], color=['skyblue', 'lightgreen', 'salmon'])\n",
    "plt.title('Comparação de RMSE entre Modelos')\n",
    "plt.ylabel('RMSE')\n",
    "plt.grid(axis='y', linestyle='--', alpha=0.7)\n",
    "plt.show()"
   ]
  },
  {
   "cell_type": "markdown",
   "id": "7f5062ae",
   "metadata": {},
   "source": [
    "Gráfico de RMSE por Fold (Ridge)"
   ]
  },
  {
   "cell_type": "code",
   "execution_count": 38,
   "id": "25ac3e2d",
   "metadata": {},
   "outputs": [
    {
     "data": {
      "image/png": "[encoded data removed]",
      "text/plain": [
       "<Figure size 800x500 with 1 Axes>"
      ]
     },
     "metadata": {},
     "output_type": "display_data"
    }
   ],
   "source": [
    "plt.figure(figsize=(8, 5))\n",
    "plt.plot(range(1, 6), cv_rmse_ridge, marker='o', linestyle='-', color='blue')\n",
    "plt.title('RMSE por Fold - Validação Cruzada (Ridge Regression)')\n",
    "plt.xlabel('Fold')\n",
    "plt.ylabel('RMSE')\n",
    "plt.grid(True)\n",
    "plt.show()\n"
   ]
  },
  {
   "cell_type": "markdown",
   "id": "dfe6f7b9",
   "metadata": {},
   "source": [
    "### 🧾 3. Escolha e Justificativa do Modelo Final"
   ]
  },
  {
   "cell_type": "markdown",
   "id": "91b84b05",
   "metadata": {},
   "source": [
    "Após testes com Ridge Regression, Random Forest e XGBoost, o modelo *Ridge Regression* foi escolhido como solução final para predição da nota do IMDB.\n",
    "\n",
    "### Justificativa:\n",
    "Alta interpretabilidade: essencial para explicar os resultados e justificar decisões.\n",
    "\n",
    "Baixa complexidade e tempo de treino rápido: facilitando reuso e manutenção.\n",
    "\n",
    "Validação cruzada mostrou RMSE médio de 0.245, com baixa variação entre os folds, indicando estabilidade.\n",
    "\n",
    "O Random Forest apresentou RMSE semelhante (0.246), porém o Ridge foi preferido pela facilidade de explicação dos coeficientes e menor risco de overfitting.\n",
    "\n",
    "O XGBoost teve boa performance, mas maior complexidade e menor interpretabilidade, não sendo o mais adequado para o objetivo do projeto.\n",
    "\n",
    "O modelo foi salvo em imdb_model.pkl.\n"
   ]
  },
  {
   "cell_type": "code",
   "execution_count": 42,
   "id": "dff2084c",
   "metadata": {},
   "outputs": [
    {
     "data": {
      "text/plain": [
       "['C:/Users/sarav/OneDrive/Área de Trabalho/Trabalhos/LightHouse/LH_CD_SARA/models/imdb_model.pkl']"
      ]
     },
     "execution_count": 42,
     "metadata": {},
     "output_type": "execute_result"
    }
   ],
   "source": [
    "import joblib\n",
    "\n",
    "joblib.dump(ridge_pipeline, r'C:/Users/sarav/OneDrive/Área de Trabalho/Trabalhos/LightHouse/LH_CD_SARA/models/imdb_model.pkl')"
   ]
  }
 ],
 "metadata": {
  "kernelspec": {
   "display_name": "venv",
   "language": "python",
   "name": "python3"
  },
  "language_info": {
   "codemirror_mode": {
    "name": "ipython",
    "version": 3
   },
   "file_extension": ".py",
   "mimetype": "text/x-python",
   "name": "python",
   "nbconvert_exporter": "python",
   "pygments_lexer": "ipython3",
   "version": "3.13.4"
  }
 },
 "nbformat": 4,
 "nbformat_minor": 5
}
