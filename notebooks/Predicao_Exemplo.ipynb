{
 "cells": [
  {
   "cell_type": "code",
   "execution_count": 2,
   "id": "6d0836c5",
   "metadata": {},
   "outputs": [],
   "source": [
    "import joblib\n",
    "\n",
    "model = joblib.load(r'C:/Users/sarav/OneDrive/Área de Trabalho/Trabalhos/LightHouse/LH_CD_SARA/models/imdb_model.pkl')\n"
   ]
  },
  {
   "cell_type": "code",
   "execution_count": 3,
   "id": "28a08417",
   "metadata": {},
   "outputs": [],
   "source": [
    "import pandas as pd\n",
    "\n",
    "cidade_de_deus = {\n",
    "    'Released_Year': 2002,\n",
    "    'Runtime': 130,\n",
    "    'Meta_score': 79.0,\n",
    "    'Gross': 7563397,\n",
    "    'No_of_Votes': 699256,\n",
    "    'Certificate': 'A',\n",
    "    'Genre': 'Crime, Drama',\n",
    "    'Overview_clean': 'in the slums of rio two kids paths diverge as one struggles to become a photographer and the other a kingpin'\n",
    "}\n",
    "\n",
    "df_exemplo = pd.DataFrame([cidade_de_deus])\n"
   ]
  },
  {
   "cell_type": "code",
   "execution_count": 5,
   "id": "abfaab7a",
   "metadata": {},
   "outputs": [
    {
     "name": "stdout",
     "output_type": "stream",
     "text": [
      "Nota prevista pelo modelo: 8.30\n"
     ]
    }
   ],
   "source": [
    "df_exemplo_renomeado = df_exemplo.rename(columns={'Overview_clean': 'Cleaned_Overview'})\n",
    "nota_prevista = model.predict(df_exemplo_renomeado)[0]\n",
    "print(f\"Nota prevista pelo modelo: {nota_prevista:.2f}\")\n"
   ]
  },
  {
   "cell_type": "code",
   "execution_count": 6,
   "id": "8cad0f06",
   "metadata": {},
   "outputs": [
    {
     "name": "stdout",
     "output_type": "stream",
     "text": [
      "Intervalo de confiança: 8.06 a 8.55\n"
     ]
    }
   ],
   "source": [
    "erro_medio = 0.245  \n",
    "\n",
    "intervalo = (nota_prevista - erro_medio, nota_prevista + erro_medio)\n",
    "print(f\"Intervalo de confiança: {intervalo[0]:.2f} a {intervalo[1]:.2f}\")\n"
   ]
  },
  {
   "cell_type": "code",
   "execution_count": 7,
   "id": "095749d6",
   "metadata": {},
   "outputs": [
    {
     "name": "stdout",
     "output_type": "stream",
     "text": [
      "Nota real: 8.6\n",
      "Erro absoluto: 0.30\n"
     ]
    }
   ],
   "source": [
    "nota_real = 8.6\n",
    "diferenca = abs(nota_prevista - nota_real)\n",
    "\n",
    "print(f\"Nota real: {nota_real}\")\n",
    "print(f\"Erro absoluto: {diferenca:.2f}\")\n"
   ]
  },
  {
   "cell_type": "markdown",
   "id": "919ea759",
   "metadata": {},
   "source": [
    "## Justificativa da Previsão\n",
    "\n",
    "O modelo previu uma nota de **8.30** para o filme “Cidade de Deus”, com intervalo de confiança entre **8.06** e **8.55**. A nota real do IMDB é **8.6**, resultando em um erro absoluto de **0.30**.\n",
    "\n",
    "Essa previsão foi baseada em variáveis como:\n",
    "- Gênero: Crime, Drama\n",
    "- Duração: 130 minutos\n",
    "- Meta Score: 79\n",
    "- Número de votos: 699 mil\n",
    "- Sinopse: Indicativa de temas sociais, violência urbana e trajetória de personagens\n",
    "\n",
    "O modelo demonstrou boa capacidade de generalização ao se aproximar da nota real, reforçando sua utilidade para prever avaliações futuras.\n"
   ]
  },
  {
   "cell_type": "markdown",
   "id": "57ae7ddb",
   "metadata": {},
   "source": [
    "# 🎬 Extra — Predição do Filme “O Morro dos Ventos Uivantes” (2026)"
   ]
  },
  {
   "cell_type": "markdown",
   "id": "602e1024",
   "metadata": {},
   "source": [
    "Com base nas informações divulgadas até agora: "
   ]
  },
  {
   "cell_type": "code",
   "execution_count": 8,
   "id": "bbe267de",
   "metadata": {},
   "outputs": [],
   "source": [
    "morro_dos_ventos_uivantes = {\n",
    "    'Released_Year': 2026,\n",
    "    'Runtime': 125,\n",
    "    'Meta_score': 82.0,\n",
    "    'Gross': 85000000,  # estimativa para blockbuster internacional\n",
    "    'No_of_Votes': 500000,  # estimativa inicial\n",
    "    'Certificate': 'A',\n",
    "    'Genre': 'Romance, Drama',\n",
    "    'Overview_clean': (\n",
    "        'O tragico e obsessivo romance entre catherine e heathcliff ambientado na inglaterra do século dezenove '\n",
    "        'explora temas de desejo, vingança e turbulência emocional em uma adaptação moderna e sensual'\n",
    "    )\n",
    "}\n",
    "\n",
    "df_extra = pd.DataFrame([morro_dos_ventos_uivantes])\n"
   ]
  },
  {
   "cell_type": "code",
   "execution_count": 10,
   "id": "dc0d75b5",
   "metadata": {},
   "outputs": [
    {
     "name": "stdout",
     "output_type": "stream",
     "text": [
      "Nota prevista para 'O Morro dos Ventos Uivantes': 7.84\n"
     ]
    }
   ],
   "source": [
    "df_extra_renomeado = df_extra.rename(columns={'Overview_clean': 'Cleaned_Overview'})\n",
    "nota_prevista_extra = model.predict(df_extra_renomeado)[0]\n",
    "print(f\"Nota prevista para 'O Morro dos Ventos Uivantes': {nota_prevista_extra:.2f}\")\n"
   ]
  },
  {
   "cell_type": "code",
   "execution_count": 11,
   "id": "12905c26",
   "metadata": {},
   "outputs": [
    {
     "name": "stdout",
     "output_type": "stream",
     "text": [
      "Intervalo de confiança: 7.60 a 8.09\n"
     ]
    }
   ],
   "source": [
    "erro_medio = 0.245\n",
    "intervalo_extra = (\n",
    "    nota_prevista_extra - erro_medio,\n",
    "    nota_prevista_extra + erro_medio\n",
    ")\n",
    "print(f\"Intervalo de confiança: {intervalo_extra[0]:.2f} a {intervalo_extra[1]:.2f}\")\n"
   ]
  },
  {
   "cell_type": "markdown",
   "id": "f16293ce",
   "metadata": {},
   "source": [
    "## Justificativa Técnica da Predição \n",
    "\n",
    "O modelo previu uma nota de **7.84** para o filme “O Morro dos Ventos Uivantes”, com intervalo de confiança entre **7.60** e **8.09**. A previsão foi feita com base em variáveis como:\n",
    "\n",
    "- Gênero: Romance, Drama\n",
    "- Duração: 125 minutos\n",
    "- Meta Score estimado: 82\n",
    "- Número de votos estimado: 500 mil\n",
    "- Sinopse: Adaptação moderna e intensa de um clássico literário\n",
    "- Elenco: Margot Robbie e Jacob Elordi\n",
    "- Produção: Warner Bros.\n",
    "\n",
    "Essas características indicam forte potencial de avaliação positiva. A previsão reforça a utilidade do modelo para orientar decisões estratégicas sobre futuros lançamentos.\n"
   ]
  },
  {
   "cell_type": "markdown",
   "id": "d21b87d6",
   "metadata": {},
   "source": [
    "## Reflexão Crítica: Representatividade e Apagamento Histórico\n",
    "\n",
    "Apesar da previsão técnica indicar uma boa recepção, é importante considerar fatores que o modelo não capta. Heathcliff, personagem central da obra original, é descrito com pele escura e traços associados à imagem estereotipada de um cigano, e isso é essencial para entender o preconceito que ele sofre.\n",
    "\n",
    "Na adaptação, essa dimensão é apagada ao escalar um ator branco e “neutro”, promovendo uma estética que embranquece narrativas e distorce o conflito racial presente no texto original. Essa escolha não é apenas estética, é política. Ela contribui para um apagamento histórico que afeta a forma como novas gerações interpretam a obra.\n",
    "\n",
    "Esse tipo de decisão pode impactar negativamente a recepção crítica e pública do filme, especialmente entre espectadores que valorizam representatividade e fidelidade cultural. Portanto, embora o modelo preveja uma nota positiva, a realidade pode ser mais complexa.\n"
   ]
  }
 ],
 "metadata": {
  "kernelspec": {
   "display_name": "venv",
   "language": "python",
   "name": "python3"
  },
  "language_info": {
   "codemirror_mode": {
    "name": "ipython",
    "version": 3
   },
   "file_extension": ".py",
   "mimetype": "text/x-python",
   "name": "python",
   "nbconvert_exporter": "python",
   "pygments_lexer": "ipython3",
   "version": "3.13.4"
  }
 },
 "nbformat": 4,
 "nbformat_minor": 5
}
